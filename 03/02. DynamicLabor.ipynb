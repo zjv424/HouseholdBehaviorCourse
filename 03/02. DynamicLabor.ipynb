{
 "cells": [
  {
   "cell_type": "markdown",
   "metadata": {},
   "source": [
    "# Dynamic Labor Supply: 2-Period Model"
   ]
  },
  {
   "cell_type": "markdown",
   "metadata": {},
   "source": [
    "## Setup"
   ]
  },
  {
   "cell_type": "code",
   "execution_count": 1,
   "metadata": {},
   "outputs": [],
   "source": [
    "import numpy as np\n",
    "import matplotlib.pyplot as plt\n",
    "\n",
    "from scipy.optimize import minimize, NonlinearConstraint\n",
    "import warnings\n",
    "warnings.filterwarnings(\"ignore\", message=\"delta_grad == 0.0. Check if the approximated function is linear.\") # turn of annoying warning\n",
    "\n",
    "from consav.linear_interp import interp_1d"
   ]
  },
  {
   "cell_type": "markdown",
   "metadata": {},
   "source": [
    "## Solution and Parameters"
   ]
  },
  {
   "cell_type": "code",
   "execution_count": 3,
   "metadata": {},
   "outputs": [],
   "source": [
    "# per-period utility\n",
    "def util(C,h,par):\n",
    "    return (C**(1+par.eta))/(1+par.eta) - par.beta*(h**(1+par.gamma))/(1+par.gamma)\n",
    "\n",
    "def cons_period2(h2,w2,N2,b,par):\n",
    "    return (1.0-par.tau)*w2*h2 + N2 - (1+par.r)*b\n",
    "\n",
    "def value_of_choice1(C1,h1,w1,N1,V2,par): #i første periode\n",
    "    \n",
    "    # current period utility\n",
    "    u1 = util(C1,h1,par)\n",
    "    \n",
    "    # implied borrowing\n",
    "    b = -((1.0-par.tau)*w1*h1 + N1 - C1)\n",
    "    \n",
    "    # next-period value of this level of b\n",
    "    V2_interp = interp_1d(par.b_grid,V2,b)\n",
    "    \n",
    "    # discounted value\n",
    "    return u1 + par.rho*V2_interp\n",
    "\n",
    "# solution\n",
    "def solve(w1,w2,N1,N2,par):\n",
    "    \n",
    "    # last period\n",
    "    V2 = np.nan + np.ones(par.b_grid.size) #værdien i sidste periode\n",
    "    h2_vec = np.nan + np.ones(par.b_grid.size)\n",
    "    h2_init = np.array([20.0])\n",
    "    for ib,b in enumerate(par.b_grid): #looper over potentiele værdi af b\n",
    "        obj2 = lambda h: -util( cons_period2(h,w2,N2,b,par) , h,par)\n",
    "        \n",
    "        # constraints: ensure positive consumption\n",
    "        bounds = ((0.0,200.0),)\n",
    "        constr = lambda h: cons_period2(h,w2,N2,b,par)  #kan ikke forbruge negativt. laver en constraint der sikrer at forbrug i den sidste periode er positivt\n",
    "        nlc = NonlinearConstraint(constr, lb=0.0, ub=np.inf,keep_feasible=True) #keep_feasible=True sikrer at constraint er overholdt\n",
    "        \n",
    "        # store solution\n",
    "        h2_vec[ib] = res.x[0]\n",
    "        V2[ib] = -res.fun\n",
    "        \n",
    "        \n",
    "    # first period\n",
    "    obj1 = lambda x: -value_of_choice1(x[0],x[1],w1,N1,V2,par)\n",
    "    init = np.array([1.0,2.0])\n",
    "    bounds = ((0.0001,2000.0),(0.0,2000.0))\n",
    "\n",
    "    res = minimize(obj1,init,bounds=bounds)\n",
    "    C1 = res.x[0]\n",
    "    h1 = res.x[1]\n",
    "    V1 = -res.fun\n",
    "    \n",
    "    return C1,h1,h2_vec"
   ]
  },
  {
   "cell_type": "code",
   "execution_count": 4,
   "metadata": {},
   "outputs": [],
   "source": [
    "# parameters \n",
    "class par: pass\n",
    "par.beta = 0.1\n",
    "par.eta = -2.0\n",
    "par.gamma = 2.5\n",
    "par.tau = 0.1\n",
    "par.r = 0.02\n",
    "par.rho = 1/(1+par.r)\n",
    "\n",
    "# grid of wealth\n",
    "par.b_grid = np.linspace(-5.0,15.0,200)"
   ]
  },
  {
   "cell_type": "markdown",
   "metadata": {},
   "source": [
    "## Solve model"
   ]
  },
  {
   "cell_type": "code",
   "execution_count": 5,
   "metadata": {},
   "outputs": [],
   "source": [
    "# find optimal labor supply for a given level of wages and non-labor income\n",
    "w1 = 1.0\n",
    "w2 = 1.0\n",
    "N1 = 0.0 # non-labor income. Important for strength of income effect\n",
    "N2 = 0.0 # non-labor income. Important for strength of income effect\n",
    "C1,h1,h2_vec = solve(w1,w2,N1,N2,par)"
   ]
  },
  {
   "cell_type": "code",
   "execution_count": 6,
   "metadata": {},
   "outputs": [
    {
     "name": "stderr",
     "output_type": "stream",
     "text": [
      "<>:3: SyntaxWarning: invalid escape sequence '\\s'\n",
      "<>:3: SyntaxWarning: invalid escape sequence '\\s'\n",
      "/var/folders/zt/5m4wvxh535lc12y4ttsgzt2m0000gn/T/ipykernel_60888/1406363417.py:3: SyntaxWarning: invalid escape sequence '\\s'\n",
      "  ax.set(xlabel='borrowing, b',ylabel='Hours, $h^{\\star}_2$');\n"
     ]
    },
    {
     "data": {
      "image/png": "[encoded data removed]",
      "text/plain": [
       "<Figure size 640x480 with 1 Axes>"
      ]
     },
     "metadata": {
      "needs_background": "light"
     },
     "output_type": "display_data"
    }
   ],
   "source": [
    "fig, ax = plt.subplots()\n",
    "ax.scatter(par.b_grid,h2_vec)\n",
    "ax.set(xlabel='borrowing, b',ylabel='Hours, $h^{\\star}_2$');"
   ]
  },
  {
   "cell_type": "markdown",
   "metadata": {},
   "source": [
    "**Question 1:** Does the last-period optimal hours worked as a function of borrowing have an intuitive slope?"
   ]
  },
  {
   "cell_type": "markdown",
   "metadata": {},
   "source": [
    "**Check consumption is constant**"
   ]
  },
  {
   "cell_type": "code",
   "execution_count": 7,
   "metadata": {},
   "outputs": [
    {
     "name": "stdout",
     "output_type": "stream",
     "text": [
      "C1=1.551, C2=1.523\n"
     ]
    }
   ],
   "source": [
    "# consumption should be rather constant across periods for this parametrization\n",
    "b = -((1.0-par.tau)*w1*h1 + N1 - C1)\n",
    "h2 = interp_1d(par.b_grid,h2_vec,b)\n",
    "C2 = cons_period2(h2,w2,N2,b,par)\n",
    "print(f'C1={C1:2.3f}, C2={C2:2.3f}')"
   ]
  },
  {
   "cell_type": "markdown",
   "metadata": {},
   "source": [
    "## In-class exercise\n",
    "1. Look at the code and talk about it with the person next to you for 5 minutes\n",
    "2. Write at least one question"
   ]
  },
  {
   "cell_type": "markdown",
   "metadata": {},
   "source": [
    "# Elasticities"
   ]
  },
  {
   "cell_type": "markdown",
   "metadata": {},
   "source": [
    "**Marshall**"
   ]
  },
  {
   "cell_type": "code",
   "execution_count": 8,
   "metadata": {},
   "outputs": [
    {
     "name": "stdout",
     "output_type": "stream",
     "text": [
      "Marshall: -0.222, Simulated: -0.215\n"
     ]
    }
   ],
   "source": [
    "# Marshall elasticity\n",
    "# theoretical (when rho=1/(1+r) and N1=N2=0)\n",
    "ela_M = (1+par.eta) / (par.gamma - par.eta)\n",
    "\n",
    "# simulate permanent increase\n",
    "C1_,h1_1pct,h2_ = solve(w1*1.01,w2*1.01,N1,N2,par)\n",
    "ela_M1_sim = (h1_1pct-h1)/h1*100\n",
    "\n",
    "print(f'Marshall: {ela_M:2.3f}, Simulated: {ela_M1_sim:2.3f}')"
   ]
  },
  {
   "cell_type": "markdown",
   "metadata": {},
   "source": [
    "**Frisch**"
   ]
  },
  {
   "cell_type": "code",
   "execution_count": 9,
   "metadata": {},
   "outputs": [
    {
     "name": "stdout",
     "output_type": "stream",
     "text": [
      "Frisch: 0.400, Simulated: 0.405\n"
     ]
    }
   ],
   "source": [
    "# Frisch elasticity\n",
    "ela_F = 1/par.gamma\n",
    "\n",
    "# simulate transitory increase in first period\n",
    "C1_,h1_F,h2_ = solve(w1*1.01,w2,N1,N2,par)\n",
    "ela_F1_sim = (h1_F-h1)/h1*100\n",
    "\n",
    "print(f'Frisch: {ela_F:2.3f}, Simulated: {ela_F1_sim:2.3f}')"
   ]
  },
  {
   "attachments": {},
   "cell_type": "markdown",
   "metadata": {},
   "source": [
    "## In-Class Exercise\n",
    "Include a 10 pct. risk of dying in period two with an associated value of zero. Compare the Frisch elasticity with the original one. Interpret the difference."
   ]
  },
  {
   "cell_type": "code",
   "execution_count": 13,
   "id": "219b1680",
   "metadata": {},
   "outputs": [],
   "source": [
    "# WRITE YOUR CODE HERE\n",
    "# solution\n",
    "def value_of_choice1_death(C1,h1,w1,N1,V2,par):\n",
    "    \n",
    "    # current period utility\n",
    "    u1 = util(C1,h1,par)\n",
    "    \n",
    "    # implied borrowing\n",
    "    b = -((1.0-par.tau)*w1*h1 + N1 - C1)\n",
    "    \n",
    "    # next-period value of this level of b and alive\n",
    "    V2_alive = interp_1d(par.b_grid,V2,b)\n",
    "    \n",
    "    # value if dead\n",
    "    V2_death = 0.0\n",
    "    \n",
    "    # expected value\n",
    "    EV2 = par.prob_death*V2_death + (1-par.prob_death)*V2_alive\n",
    "    \n",
    "    # discounted value\n",
    "    return u1 + par.rho*EV2\n",
    "\n",
    "def solve_death(w1,w2,N1,N2,par):\n",
    "    \n",
    "    # last period\n",
    "    V2 = np.nan + np.ones(par.b_grid.size) #værdien i sidste periode\n",
    "    h2_vec = np.nan + np.ones(par.b_grid.size)\n",
    "    h2_init = np.array([20.0])\n",
    "    for ib,b in enumerate(par.b_grid): #looper over potentiele værdi af b\n",
    "        obj2 = lambda h: -util( cons_period2(h,w2,N2,b,par) , h,par)\n",
    "        if ib>0: h2_init = np.array(h2_vec[ib-1])\n",
    "        \n",
    "        # constraints: ensure positive consumption\n",
    "        bounds = ((0.0,200.0),)\n",
    "        constr = lambda h: cons_period2(h,w2,N2,b,par)  #kan ikke forbruge negativt. laver en constraint der sikrer at forbrug i den sidste periode er positivt\n",
    "        nlc = NonlinearConstraint(constr, lb=0.0, ub=np.inf,keep_feasible=True) #keep_feasible=True sikrer at constraint er overholdt\n",
    "        \n",
    "        res = minimize(obj2,h2_init,bounds=bounds,constraints=nlc,method='trust-constr')\n",
    "        h2_vec[ib] = res.x[0]\n",
    "        V2[ib] = -res.fun\n",
    "        \n",
    "        \n",
    "    # first period\n",
    "    obj1 = lambda x: -value_of_choice1(x[0],x[1],w1,N1,V2,par)\n",
    "    init = np.array([1.0,2.0])\n",
    "    bounds = ((0.0001,2000.0),(0.0,2000.0))\n",
    "\n",
    "    res = minimize(obj1,init,bounds=bounds,method='trust-constr')\n",
    "    C1 = res.x[0]\n",
    "    h1 = res.x[1]\n",
    "    V1 = -res.fun\n",
    "    \n",
    "    return C1,h1,h2_vec"
   ]
  },
  {
   "cell_type": "markdown",
   "id": "86749724",
   "metadata": {},
   "source": [
    "## solution"
   ]
  },
  {
   "cell_type": "code",
   "execution_count": 10,
   "metadata": {},
   "outputs": [],
   "source": [
    "# solution\n",
    "def value_of_choice1_death(C1,h1,w1,N1,V2,par):\n",
    "    \n",
    "    # current period utility\n",
    "    u1 = util(C1,h1,par)\n",
    "    \n",
    "    # implied borrowing\n",
    "    b = -((1.0-par.tau)*w1*h1 + N1 - C1)\n",
    "    \n",
    "    # next-period value of this level of b and alive\n",
    "    V2_alive = interp_1d(par.b_grid,V2,b)\n",
    "    \n",
    "    # value if dead\n",
    "    V2_death = 0.0\n",
    "    \n",
    "    # expected value\n",
    "    EV2 = par.prob_death*V2_death + (1-par.prob_death)*V2_alive\n",
    "    \n",
    "    # discounted value\n",
    "    return u1 + par.rho*EV2\n",
    "\n",
    "def solve_death(w1,w2,N1,N2,par):\n",
    "    \n",
    "    # last period\n",
    "    V2 = np.nan + np.ones(par.b_grid.size)\n",
    "    h2_vec = np.nan + np.ones(par.b_grid.size)\n",
    "    for ib,b in enumerate(par.b_grid):\n",
    "        obj2 = lambda h: -util( cons_period2(h,w2,N2,b,par) , h,par)\n",
    "        \n",
    "        # Set bound based on last-period consumption constraint\n",
    "        h_min = np.fmax(0.0, (b*(1+par.r)-N2)/(w2*(1-par.tau)) ) + 1.0e-5\n",
    "        bounds = ((h_min,200.0),)\n",
    "        h2_init = np.array([h_min+0.1])\n",
    "        res = minimize(obj2,h2_init,bounds=bounds,tol=1.0e-8)\n",
    "        \n",
    "        # store solution\n",
    "        h2_vec[ib] = res.x[0]\n",
    "        V2[ib] = -res.fun\n",
    "        \n",
    "        \n",
    "    # first period\n",
    "    obj1 = lambda x: -value_of_choice1_death(x[0],x[1],w1,N1,V2,par)\n",
    "    init = np.array([1.0,2.0])\n",
    "    bounds = ((0.0001,2000.0),(0.0,2000.0))\n",
    "\n",
    "    res = minimize(obj1,init,bounds=bounds,tol=1.0e-8)\n",
    "    C1 = res.x[0]\n",
    "    h1 = res.x[1]\n",
    "    V1 = -res.fun\n",
    "\n",
    "    return C1,h1,h2_vec"
   ]
  },
  {
   "cell_type": "code",
   "execution_count": 11,
   "metadata": {},
   "outputs": [],
   "source": [
    "# solve\n",
    "par.prob_death = 0.1\n",
    "C1_death,h1_death,h2_vec_death = solve_death(w1,w2,N1,N2,par)"
   ]
  },
  {
   "cell_type": "code",
   "execution_count": 12,
   "metadata": {},
   "outputs": [
    {
     "name": "stdout",
     "output_type": "stream",
     "text": [
      "Old Frisch: 0.400, New, with death: 0.029\n"
     ]
    }
   ],
   "source": [
    "# Frisch elasticity\n",
    "# simulate transitory increase in first period\n",
    "_,h1_death_F,_ = solve_death(w1*1.01,w2,N1,N2,par)\n",
    "ela_F1_death = (h1_death_F-h1_death)/h1_death*100\n",
    "\n",
    "print(f'Old Frisch: {ela_F:2.3f}, New, with death: {ela_F1_death:2.3f}')"
   ]
  },
  {
   "cell_type": "code",
   "execution_count": null,
   "id": "04827d43",
   "metadata": {},
   "outputs": [],
   "source": []
  }
 ],
 "metadata": {
  "kernelspec": {
   "display_name": "base",
   "language": "python",
   "name": "python3"
  },
  "language_info": {
   "codemirror_mode": {
    "name": "ipython",
    "version": 3
   },
   "file_extension": ".py",
   "mimetype": "text/x-python",
   "name": "python",
   "nbconvert_exporter": "python",
   "pygments_lexer": "ipython3",
   "version": "3.12.7"
  }
 },
 "nbformat": 4,
 "nbformat_minor": 5
}
